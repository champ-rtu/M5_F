{
  "nbformat": 4,
  "nbformat_minor": 0,
  "metadata": {
    "colab": {
      "name": "M5 Forcasting .ipynb",
      "provenance": [],
      "machine_shape": "hm",
      "mount_file_id": "1kn3STAKHV61iSQlCjB-faWkK5pINu7Aq",
      "authorship_tag": "ABX9TyMCb6fX6acuVqsXpurZdqpW",
      "include_colab_link": true
    },
    "kernelspec": {
      "display_name": "Python 3",
      "name": "python3"
    },
    "language_info": {
      "name": "python"
    }
  },
  "cells": [
    {
      "cell_type": "markdown",
      "metadata": {
        "id": "view-in-github",
        "colab_type": "text"
      },
      "source": [
        "<a href=\"https://colab.research.google.com/github/champ-rtu/M5_F/blob/main/M5_Forcasting_.ipynb\" target=\"_parent\"><img src=\"https://colab.research.google.com/assets/colab-badge.svg\" alt=\"Open In Colab\"/></a>"
      ]
    },
    {
      "cell_type": "code",
      "metadata": {
        "id": "KQ3wcyOMBXx1"
      },
      "source": [
        "import pandas as pd\n",
        "import numpy as np\n",
        "from tqdm import tqdm\n",
        "import matplotlib.pyplot as plt\n",
        "import seaborn as sns"
      ],
      "execution_count": 1,
      "outputs": []
    },
    {
      "cell_type": "markdown",
      "metadata": {
        "id": "FXWISpIIBOHu"
      },
      "source": [
        "# **Preprocessing&Feature Engineering**\n",
        "\n",
        "1. handled with missing value \n",
        "2. melt the sale dataset (tranform wide dataset to long dataset)\n",
        "3. create lag feature \n",
        "4. merge three dataset together"
      ]
    },
    {
      "cell_type": "code",
      "metadata": {
        "id": "yAvxMddVMgOV"
      },
      "source": [
        "# Memory reduction helper function:\n",
        "def reduce_mem_usage(df, verbose=True):\n",
        "    numerics = ['int16', 'int32', 'int64', 'float16', 'float32', 'float64']\n",
        "    start_mem = df.memory_usage().sum() / 1024**2    \n",
        "    for col in df.columns: #columns\n",
        "        col_type = df[col].dtypes\n",
        "        if col_type in numerics: #numerics\n",
        "            c_min = df[col].min()\n",
        "            c_max = df[col].max()\n",
        "            if str(col_type)[:3] == 'int':\n",
        "                if c_min > np.iinfo(np.int8).min and c_max < np.iinfo(np.int8).max:\n",
        "                    df[col] = df[col].astype(np.int8)\n",
        "                elif c_min > np.iinfo(np.int16).min and c_max < np.iinfo(np.int16).max:\n",
        "                    df[col] = df[col].astype(np.int16)\n",
        "                elif c_min > np.iinfo(np.int32).min and c_max < np.iinfo(np.int32).max:\n",
        "                    df[col] = df[col].astype(np.int32)\n",
        "                elif c_min > np.iinfo(np.int64).min and c_max < np.iinfo(np.int64).max:\n",
        "                    df[col] = df[col].astype(np.int64)  \n",
        "            else:\n",
        "                if c_min > np.finfo(np.float16).min and c_max < np.finfo(np.float16).max:\n",
        "                    df[col] = df[col].astype(np.float16)\n",
        "                elif c_min > np.finfo(np.float32).min and c_max < np.finfo(np.float32).max:\n",
        "                    df[col] = df[col].astype(np.float32)\n",
        "                else:\n",
        "                    df[col] = df[col].astype(np.float64)    \n",
        "    end_mem = df.memory_usage().sum() / 1024**2\n",
        "    if verbose: print('Mem. usage decreased to {:5.2f} Mb ({:.1f}% reduction)'.format(end_mem, 100 * (start_mem - end_mem) / start_mem))\n",
        "    return df"
      ],
      "execution_count": 2,
      "outputs": []
    },
    {
      "cell_type": "code",
      "metadata": {
        "colab": {
          "base_uri": "https://localhost:8080/"
        },
        "id": "FbLTMloIarAY",
        "outputId": "b42449c8-220c-4a36-d75d-901c62532da3"
      },
      "source": [
        "#read sale file by pandas\n",
        "df_sale = pd.read_csv('/content/drive/MyDrive/sales_train_validation.csv')\n",
        "#apply reduce memory function\n",
        "df_sale = reduce_mem_usage(df_sale)"
      ],
      "execution_count": 3,
      "outputs": [
        {
          "output_type": "stream",
          "name": "stdout",
          "text": [
            "Mem. usage decreased to 95.00 Mb (78.7% reduction)\n"
          ]
        }
      ]
    },
    {
      "cell_type": "code",
      "metadata": {
        "colab": {
          "base_uri": "https://localhost:8080/"
        },
        "id": "qpBXFnvSCycU",
        "outputId": "7cbef2ae-4e84-46e2-df7d-01a1852ab616"
      },
      "source": [
        "#identify missing value in sale dataset\n",
        "df_sale.isnull().sum()"
      ],
      "execution_count": 31,
      "outputs": [
        {
          "output_type": "execute_result",
          "data": {
            "text/plain": [
              "id          0\n",
              "item_id     0\n",
              "dept_id     0\n",
              "cat_id      0\n",
              "store_id    0\n",
              "           ..\n",
              "d_1909      0\n",
              "d_1910      0\n",
              "d_1911      0\n",
              "d_1912      0\n",
              "d_1913      0\n",
              "Length: 1919, dtype: int64"
            ]
          },
          "metadata": {},
          "execution_count": 31
        }
      ]
    },
    {
      "cell_type": "code",
      "metadata": {
        "id": "ZqHdIuABYs7U"
      },
      "source": [
        "#melt the sales dataset\n",
        "df = df_sale.melt(id_vars=['id', 'item_id', 'dept_id', 'cat_id', 'store_id', 'state_id'],\n",
        "                  var_name='d',\n",
        "                  value_name='Sales')"
      ],
      "execution_count": 4,
      "outputs": []
    },
    {
      "cell_type": "code",
      "metadata": {
        "colab": {
          "base_uri": "https://localhost:8080/",
          "height": 206
        },
        "id": "n65fNrrviECQ",
        "outputId": "a618d517-142c-4f3f-bc76-b7ff66f399cb"
      },
      "source": [
        "df.head()"
      ],
      "execution_count": 5,
      "outputs": [
        {
          "output_type": "execute_result",
          "data": {
            "text/html": [
              "<div>\n",
              "<style scoped>\n",
              "    .dataframe tbody tr th:only-of-type {\n",
              "        vertical-align: middle;\n",
              "    }\n",
              "\n",
              "    .dataframe tbody tr th {\n",
              "        vertical-align: top;\n",
              "    }\n",
              "\n",
              "    .dataframe thead th {\n",
              "        text-align: right;\n",
              "    }\n",
              "</style>\n",
              "<table border=\"1\" class=\"dataframe\">\n",
              "  <thead>\n",
              "    <tr style=\"text-align: right;\">\n",
              "      <th></th>\n",
              "      <th>id</th>\n",
              "      <th>item_id</th>\n",
              "      <th>dept_id</th>\n",
              "      <th>cat_id</th>\n",
              "      <th>store_id</th>\n",
              "      <th>state_id</th>\n",
              "      <th>d</th>\n",
              "      <th>Sales</th>\n",
              "    </tr>\n",
              "  </thead>\n",
              "  <tbody>\n",
              "    <tr>\n",
              "      <th>0</th>\n",
              "      <td>HOBBIES_1_001_CA_1_validation</td>\n",
              "      <td>HOBBIES_1_001</td>\n",
              "      <td>HOBBIES_1</td>\n",
              "      <td>HOBBIES</td>\n",
              "      <td>CA_1</td>\n",
              "      <td>CA</td>\n",
              "      <td>d_1</td>\n",
              "      <td>0</td>\n",
              "    </tr>\n",
              "    <tr>\n",
              "      <th>1</th>\n",
              "      <td>HOBBIES_1_002_CA_1_validation</td>\n",
              "      <td>HOBBIES_1_002</td>\n",
              "      <td>HOBBIES_1</td>\n",
              "      <td>HOBBIES</td>\n",
              "      <td>CA_1</td>\n",
              "      <td>CA</td>\n",
              "      <td>d_1</td>\n",
              "      <td>0</td>\n",
              "    </tr>\n",
              "    <tr>\n",
              "      <th>2</th>\n",
              "      <td>HOBBIES_1_003_CA_1_validation</td>\n",
              "      <td>HOBBIES_1_003</td>\n",
              "      <td>HOBBIES_1</td>\n",
              "      <td>HOBBIES</td>\n",
              "      <td>CA_1</td>\n",
              "      <td>CA</td>\n",
              "      <td>d_1</td>\n",
              "      <td>0</td>\n",
              "    </tr>\n",
              "    <tr>\n",
              "      <th>3</th>\n",
              "      <td>HOBBIES_1_004_CA_1_validation</td>\n",
              "      <td>HOBBIES_1_004</td>\n",
              "      <td>HOBBIES_1</td>\n",
              "      <td>HOBBIES</td>\n",
              "      <td>CA_1</td>\n",
              "      <td>CA</td>\n",
              "      <td>d_1</td>\n",
              "      <td>0</td>\n",
              "    </tr>\n",
              "    <tr>\n",
              "      <th>4</th>\n",
              "      <td>HOBBIES_1_005_CA_1_validation</td>\n",
              "      <td>HOBBIES_1_005</td>\n",
              "      <td>HOBBIES_1</td>\n",
              "      <td>HOBBIES</td>\n",
              "      <td>CA_1</td>\n",
              "      <td>CA</td>\n",
              "      <td>d_1</td>\n",
              "      <td>0</td>\n",
              "    </tr>\n",
              "  </tbody>\n",
              "</table>\n",
              "</div>"
            ],
            "text/plain": [
              "                              id        item_id    dept_id  ... state_id    d Sales\n",
              "0  HOBBIES_1_001_CA_1_validation  HOBBIES_1_001  HOBBIES_1  ...       CA  d_1     0\n",
              "1  HOBBIES_1_002_CA_1_validation  HOBBIES_1_002  HOBBIES_1  ...       CA  d_1     0\n",
              "2  HOBBIES_1_003_CA_1_validation  HOBBIES_1_003  HOBBIES_1  ...       CA  d_1     0\n",
              "3  HOBBIES_1_004_CA_1_validation  HOBBIES_1_004  HOBBIES_1  ...       CA  d_1     0\n",
              "4  HOBBIES_1_005_CA_1_validation  HOBBIES_1_005  HOBBIES_1  ...       CA  d_1     0\n",
              "\n",
              "[5 rows x 8 columns]"
            ]
          },
          "metadata": {},
          "execution_count": 5
        }
      ]
    },
    {
      "cell_type": "code",
      "metadata": {
        "colab": {
          "base_uri": "https://localhost:8080/"
        },
        "id": "phyPQz1PgMLy",
        "outputId": "29a6e6a4-360c-4873-83af-5a96a4f7e9eb"
      },
      "source": [
        "#read sale file by pandas\n",
        "df_cal = pd.read_csv('/content/drive/MyDrive/calendar.csv')\n",
        "#apply reduce memory function\n",
        "df_cal = reduce_mem_usage(df_cal)"
      ],
      "execution_count": 33,
      "outputs": [
        {
          "output_type": "stream",
          "name": "stdout",
          "text": [
            "Mem. usage decreased to  0.12 Mb (41.9% reduction)\n"
          ]
        }
      ]
    },
    {
      "cell_type": "code",
      "metadata": {
        "colab": {
          "base_uri": "https://localhost:8080/"
        },
        "id": "y4kXZUo6DAl6",
        "outputId": "74d831b9-66b4-448d-f074-afb67be30b99"
      },
      "source": [
        "#identify missing value in calendar data\n",
        "df_cal.isnull().sum()"
      ],
      "execution_count": 34,
      "outputs": [
        {
          "output_type": "execute_result",
          "data": {
            "text/plain": [
              "date               0\n",
              "wm_yr_wk           0\n",
              "weekday            0\n",
              "wday               0\n",
              "month              0\n",
              "year               0\n",
              "d                  0\n",
              "event_name_1    1807\n",
              "event_type_1    1807\n",
              "event_name_2    1964\n",
              "event_type_2    1964\n",
              "snap_CA            0\n",
              "snap_TX            0\n",
              "snap_WI            0\n",
              "dtype: int64"
            ]
          },
          "metadata": {},
          "execution_count": 34
        }
      ]
    },
    {
      "cell_type": "code",
      "metadata": {
        "colab": {
          "base_uri": "https://localhost:8080/",
          "height": 955
        },
        "id": "TbNa71hJgMSE",
        "outputId": "a95a71ff-e90a-4dc6-9142-b48d5b54ebb6"
      },
      "source": [
        "#change datatype to datetime \n",
        "df_cal['date'] = pd.to_datetime(df_cal['date'], format='%Y-%m-%d')\n",
        "df_cal['year'] = df_cal['date'].dt.year\n",
        "df_cal['month'] = df_cal['date'].dt.month\n",
        "df_cal['week'] = df_cal['date'].dt.week\n",
        "df_cal['day'] = df_cal['date'].dt.day\n",
        "\n",
        "#change null value in event name1,2 and event type1,2 by 0\n",
        "df_cal['event_name_1'][df_cal['event_name_1'].isnull()] = 0\n",
        "df_cal['event_name_2'][df_cal['event_name_2'].isnull()] = 0\n",
        "df_cal['event_type_1'][df_cal['event_type_1'].isnull()] = 0\n",
        "df_cal['event_type_2'][df_cal['event_type_2'].isnull()] = 0\n",
        "\n",
        "#Create event num column for indicate that day have event or not\n",
        "df_cal['event_num'] = pd.Series()\n",
        "df_cal['event_num'][ df_cal['event_type_1'] != 0] = 1\n",
        "df_cal['event_num'][df_cal['event_type_2'] != 0] == 2 \n",
        "df_cal['event_num'][df_cal['event_num'].isnull()] = 0\n",
        "\n",
        "#Create weekend column \n",
        "df_cal['weekend'] = pd.Series()\n",
        "df_cal['weekend'] [(df_cal['weekday'] == 'Saturday') | (df_cal['weekday'] == 'Sunday')] = 1\n",
        "df_cal['weekend'][df_cal['weekend'].isnull()] = 0\n",
        "df_cal.drop(['event_type_2','event_name_2','event_name_1','event_type_1','weekday'], axis=1, inplace=True)\n",
        "df_cal.head()"
      ],
      "execution_count": 49,
      "outputs": [
        {
          "output_type": "stream",
          "name": "stderr",
          "text": [
            "/usr/local/lib/python3.7/dist-packages/ipykernel_launcher.py:5: FutureWarning: Series.dt.weekofyear and Series.dt.week have been deprecated.  Please use Series.dt.isocalendar().week instead.\n",
            "  \"\"\"\n",
            "/usr/local/lib/python3.7/dist-packages/ipykernel_launcher.py:9: SettingWithCopyWarning: \n",
            "A value is trying to be set on a copy of a slice from a DataFrame\n",
            "\n",
            "See the caveats in the documentation: https://pandas.pydata.org/pandas-docs/stable/user_guide/indexing.html#returning-a-view-versus-a-copy\n",
            "  if __name__ == '__main__':\n",
            "/usr/local/lib/python3.7/dist-packages/ipykernel_launcher.py:10: SettingWithCopyWarning: \n",
            "A value is trying to be set on a copy of a slice from a DataFrame\n",
            "\n",
            "See the caveats in the documentation: https://pandas.pydata.org/pandas-docs/stable/user_guide/indexing.html#returning-a-view-versus-a-copy\n",
            "  # Remove the CWD from sys.path while we load stuff.\n",
            "/usr/local/lib/python3.7/dist-packages/ipykernel_launcher.py:11: SettingWithCopyWarning: \n",
            "A value is trying to be set on a copy of a slice from a DataFrame\n",
            "\n",
            "See the caveats in the documentation: https://pandas.pydata.org/pandas-docs/stable/user_guide/indexing.html#returning-a-view-versus-a-copy\n",
            "  # This is added back by InteractiveShellApp.init_path()\n",
            "/usr/local/lib/python3.7/dist-packages/ipykernel_launcher.py:12: SettingWithCopyWarning: \n",
            "A value is trying to be set on a copy of a slice from a DataFrame\n",
            "\n",
            "See the caveats in the documentation: https://pandas.pydata.org/pandas-docs/stable/user_guide/indexing.html#returning-a-view-versus-a-copy\n",
            "  if sys.path[0] == '':\n",
            "/usr/local/lib/python3.7/dist-packages/ipykernel_launcher.py:15: DeprecationWarning: The default dtype for empty Series will be 'object' instead of 'float64' in a future version. Specify a dtype explicitly to silence this warning.\n",
            "  from ipykernel import kernelapp as app\n",
            "/usr/local/lib/python3.7/dist-packages/ipykernel_launcher.py:16: SettingWithCopyWarning: \n",
            "A value is trying to be set on a copy of a slice from a DataFrame\n",
            "\n",
            "See the caveats in the documentation: https://pandas.pydata.org/pandas-docs/stable/user_guide/indexing.html#returning-a-view-versus-a-copy\n",
            "  app.launch_new_instance()\n",
            "/usr/local/lib/python3.7/dist-packages/ipykernel_launcher.py:18: SettingWithCopyWarning: \n",
            "A value is trying to be set on a copy of a slice from a DataFrame\n",
            "\n",
            "See the caveats in the documentation: https://pandas.pydata.org/pandas-docs/stable/user_guide/indexing.html#returning-a-view-versus-a-copy\n",
            "/usr/local/lib/python3.7/dist-packages/ipykernel_launcher.py:21: DeprecationWarning: The default dtype for empty Series will be 'object' instead of 'float64' in a future version. Specify a dtype explicitly to silence this warning.\n",
            "/usr/local/lib/python3.7/dist-packages/ipykernel_launcher.py:22: SettingWithCopyWarning: \n",
            "A value is trying to be set on a copy of a slice from a DataFrame\n",
            "\n",
            "See the caveats in the documentation: https://pandas.pydata.org/pandas-docs/stable/user_guide/indexing.html#returning-a-view-versus-a-copy\n",
            "/usr/local/lib/python3.7/dist-packages/ipykernel_launcher.py:23: SettingWithCopyWarning: \n",
            "A value is trying to be set on a copy of a slice from a DataFrame\n",
            "\n",
            "See the caveats in the documentation: https://pandas.pydata.org/pandas-docs/stable/user_guide/indexing.html#returning-a-view-versus-a-copy\n"
          ]
        },
        {
          "output_type": "execute_result",
          "data": {
            "text/html": [
              "<div>\n",
              "<style scoped>\n",
              "    .dataframe tbody tr th:only-of-type {\n",
              "        vertical-align: middle;\n",
              "    }\n",
              "\n",
              "    .dataframe tbody tr th {\n",
              "        vertical-align: top;\n",
              "    }\n",
              "\n",
              "    .dataframe thead th {\n",
              "        text-align: right;\n",
              "    }\n",
              "</style>\n",
              "<table border=\"1\" class=\"dataframe\">\n",
              "  <thead>\n",
              "    <tr style=\"text-align: right;\">\n",
              "      <th></th>\n",
              "      <th>date</th>\n",
              "      <th>wm_yr_wk</th>\n",
              "      <th>wday</th>\n",
              "      <th>month</th>\n",
              "      <th>year</th>\n",
              "      <th>d</th>\n",
              "      <th>snap_CA</th>\n",
              "      <th>snap_TX</th>\n",
              "      <th>snap_WI</th>\n",
              "      <th>week</th>\n",
              "      <th>day</th>\n",
              "      <th>event_num</th>\n",
              "      <th>weekend</th>\n",
              "    </tr>\n",
              "  </thead>\n",
              "  <tbody>\n",
              "    <tr>\n",
              "      <th>0</th>\n",
              "      <td>2011-01-29</td>\n",
              "      <td>11101</td>\n",
              "      <td>1</td>\n",
              "      <td>1</td>\n",
              "      <td>2011</td>\n",
              "      <td>d_1</td>\n",
              "      <td>0</td>\n",
              "      <td>0</td>\n",
              "      <td>0</td>\n",
              "      <td>4</td>\n",
              "      <td>29</td>\n",
              "      <td>0.0</td>\n",
              "      <td>1.0</td>\n",
              "    </tr>\n",
              "    <tr>\n",
              "      <th>1</th>\n",
              "      <td>2011-01-30</td>\n",
              "      <td>11101</td>\n",
              "      <td>2</td>\n",
              "      <td>1</td>\n",
              "      <td>2011</td>\n",
              "      <td>d_2</td>\n",
              "      <td>0</td>\n",
              "      <td>0</td>\n",
              "      <td>0</td>\n",
              "      <td>4</td>\n",
              "      <td>30</td>\n",
              "      <td>0.0</td>\n",
              "      <td>1.0</td>\n",
              "    </tr>\n",
              "    <tr>\n",
              "      <th>2</th>\n",
              "      <td>2011-01-31</td>\n",
              "      <td>11101</td>\n",
              "      <td>3</td>\n",
              "      <td>1</td>\n",
              "      <td>2011</td>\n",
              "      <td>d_3</td>\n",
              "      <td>0</td>\n",
              "      <td>0</td>\n",
              "      <td>0</td>\n",
              "      <td>5</td>\n",
              "      <td>31</td>\n",
              "      <td>0.0</td>\n",
              "      <td>0.0</td>\n",
              "    </tr>\n",
              "    <tr>\n",
              "      <th>3</th>\n",
              "      <td>2011-02-01</td>\n",
              "      <td>11101</td>\n",
              "      <td>4</td>\n",
              "      <td>2</td>\n",
              "      <td>2011</td>\n",
              "      <td>d_4</td>\n",
              "      <td>1</td>\n",
              "      <td>1</td>\n",
              "      <td>0</td>\n",
              "      <td>5</td>\n",
              "      <td>1</td>\n",
              "      <td>0.0</td>\n",
              "      <td>0.0</td>\n",
              "    </tr>\n",
              "    <tr>\n",
              "      <th>4</th>\n",
              "      <td>2011-02-02</td>\n",
              "      <td>11101</td>\n",
              "      <td>5</td>\n",
              "      <td>2</td>\n",
              "      <td>2011</td>\n",
              "      <td>d_5</td>\n",
              "      <td>1</td>\n",
              "      <td>0</td>\n",
              "      <td>1</td>\n",
              "      <td>5</td>\n",
              "      <td>2</td>\n",
              "      <td>0.0</td>\n",
              "      <td>0.0</td>\n",
              "    </tr>\n",
              "  </tbody>\n",
              "</table>\n",
              "</div>"
            ],
            "text/plain": [
              "        date  wm_yr_wk  wday  month  ...  week day  event_num  weekend\n",
              "0 2011-01-29     11101     1      1  ...     4  29        0.0      1.0\n",
              "1 2011-01-30     11101     2      1  ...     4  30        0.0      1.0\n",
              "2 2011-01-31     11101     3      1  ...     5  31        0.0      0.0\n",
              "3 2011-02-01     11101     4      2  ...     5   1        0.0      0.0\n",
              "4 2011-02-02     11101     5      2  ...     5   2        0.0      0.0\n",
              "\n",
              "[5 rows x 13 columns]"
            ]
          },
          "metadata": {},
          "execution_count": 49
        }
      ]
    },
    {
      "cell_type": "code",
      "metadata": {
        "id": "6Kpvdc_tiBZz"
      },
      "source": [
        "#merge sale data with calendar data\n",
        "df_merge = df.merge(df_cal, on ='d')"
      ],
      "execution_count": 8,
      "outputs": []
    },
    {
      "cell_type": "code",
      "metadata": {
        "id": "oW4D4TrcpF_f",
        "colab": {
          "base_uri": "https://localhost:8080/"
        },
        "outputId": "85f20917-39c3-494e-d1ec-63854b40c5b9"
      },
      "source": [
        "df_merge.shape"
      ],
      "execution_count": 9,
      "outputs": [
        {
          "output_type": "execute_result",
          "data": {
            "text/plain": [
              "(58327370, 20)"
            ]
          },
          "metadata": {},
          "execution_count": 9
        }
      ]
    },
    {
      "cell_type": "code",
      "metadata": {
        "id": "2L5NdCArYusw",
        "colab": {
          "base_uri": "https://localhost:8080/"
        },
        "outputId": "81558be8-4e65-48b1-c41f-d9eb25cdcc8a"
      },
      "source": [
        "# apply lag feature by choose 28,35,42,49,56\n",
        "lags = [28,35,42,49,56]\n",
        "for i in tqdm(lags):\n",
        "  df_merge['lag_'+str(i)] = df_merge[['id', 'Sales']].groupby('id')['Sales'].shift(i)"
      ],
      "execution_count": 10,
      "outputs": [
        {
          "output_type": "stream",
          "name": "stderr",
          "text": [
            "100%|██████████| 5/5 [01:03<00:00, 12.79s/it]\n"
          ]
        }
      ]
    },
    {
      "cell_type": "code",
      "metadata": {
        "colab": {
          "base_uri": "https://localhost:8080/"
        },
        "id": "EgF1ZVscv56F",
        "outputId": "d5e272a8-ab9c-43be-96a6-cb3a80192d08"
      },
      "source": [
        "df_merge = reduce_mem_usage(df_merge)"
      ],
      "execution_count": 11,
      "outputs": [
        {
          "output_type": "stream",
          "name": "stdout",
          "text": [
            "Mem. usage decreased to 5506.91 Mb (41.1% reduction)\n"
          ]
        }
      ]
    },
    {
      "cell_type": "code",
      "metadata": {
        "id": "XDjxXUAtgLGJ"
      },
      "source": [
        "#change the value in d column for d_1 to 1\n",
        "df_merge['d'] = df_merge['d'].apply(lambda x: int(x.split('_')[1]))\n"
      ],
      "execution_count": 12,
      "outputs": []
    },
    {
      "cell_type": "code",
      "metadata": {
        "id": "3u55icHyeUWH"
      },
      "source": [
        "#due to this dataset is very big dataset. So the data from day 1 to 1200 was cut\n",
        "df_merge = df_merge[df_merge['d']> 1200]"
      ],
      "execution_count": 13,
      "outputs": []
    },
    {
      "cell_type": "code",
      "metadata": {
        "colab": {
          "base_uri": "https://localhost:8080/"
        },
        "id": "aHUIqO0BpgqJ",
        "outputId": "4d00a516-b405-4255-cb33-8b8f7e39734b"
      },
      "source": [
        "df_merge.shape"
      ],
      "execution_count": 14,
      "outputs": [
        {
          "output_type": "execute_result",
          "data": {
            "text/plain": [
              "(21739370, 25)"
            ]
          },
          "metadata": {},
          "execution_count": 14
        }
      ]
    },
    {
      "cell_type": "code",
      "metadata": {
        "colab": {
          "base_uri": "https://localhost:8080/"
        },
        "id": "qqwHyao-qEnA",
        "outputId": "63c9a4fa-57f5-46f3-afa7-de215b37b554"
      },
      "source": [
        "#read price data \n",
        "df_price = pd.read_csv('/content/drive/MyDrive/sell_prices.csv')\n",
        "#reduce memory usage\n",
        "df_price= reduce_mem_usage(df_price)"
      ],
      "execution_count": 15,
      "outputs": [
        {
          "output_type": "stream",
          "name": "stdout",
          "text": [
            "Mem. usage decreased to 130.48 Mb (37.5% reduction)\n"
          ]
        }
      ]
    },
    {
      "cell_type": "code",
      "metadata": {
        "colab": {
          "base_uri": "https://localhost:8080/",
          "height": 312
        },
        "id": "lVTfFu3JqEqq",
        "outputId": "1e06dc8f-4c72-4448-86a8-c1085909aa55"
      },
      "source": [
        "#merge sale, calendar and price dataset together\n",
        "df_ = df_merge.merge(df_price, on=['store_id', 'item_id', 'wm_yr_wk'])\n",
        "df_.head()"
      ],
      "execution_count": 36,
      "outputs": [
        {
          "output_type": "execute_result",
          "data": {
            "text/html": [
              "<div>\n",
              "<style scoped>\n",
              "    .dataframe tbody tr th:only-of-type {\n",
              "        vertical-align: middle;\n",
              "    }\n",
              "\n",
              "    .dataframe tbody tr th {\n",
              "        vertical-align: top;\n",
              "    }\n",
              "\n",
              "    .dataframe thead th {\n",
              "        text-align: right;\n",
              "    }\n",
              "</style>\n",
              "<table border=\"1\" class=\"dataframe\">\n",
              "  <thead>\n",
              "    <tr style=\"text-align: right;\">\n",
              "      <th></th>\n",
              "      <th>id</th>\n",
              "      <th>item_id</th>\n",
              "      <th>dept_id</th>\n",
              "      <th>cat_id</th>\n",
              "      <th>store_id</th>\n",
              "      <th>state_id</th>\n",
              "      <th>d</th>\n",
              "      <th>Sales</th>\n",
              "      <th>date</th>\n",
              "      <th>wm_yr_wk</th>\n",
              "      <th>wday</th>\n",
              "      <th>month</th>\n",
              "      <th>year</th>\n",
              "      <th>snap_CA</th>\n",
              "      <th>snap_TX</th>\n",
              "      <th>snap_WI</th>\n",
              "      <th>week</th>\n",
              "      <th>day</th>\n",
              "      <th>event_num</th>\n",
              "      <th>weekend</th>\n",
              "      <th>lag_28</th>\n",
              "      <th>lag_35</th>\n",
              "      <th>lag_42</th>\n",
              "      <th>lag_49</th>\n",
              "      <th>lag_56</th>\n",
              "      <th>sell_price</th>\n",
              "    </tr>\n",
              "  </thead>\n",
              "  <tbody>\n",
              "    <tr>\n",
              "      <th>0</th>\n",
              "      <td>HOBBIES_1_001_CA_1_validation</td>\n",
              "      <td>HOBBIES_1_001</td>\n",
              "      <td>HOBBIES_1</td>\n",
              "      <td>HOBBIES</td>\n",
              "      <td>CA_1</td>\n",
              "      <td>CA</td>\n",
              "      <td>1201</td>\n",
              "      <td>0</td>\n",
              "      <td>2014-05-13</td>\n",
              "      <td>11415</td>\n",
              "      <td>4</td>\n",
              "      <td>5</td>\n",
              "      <td>2014</td>\n",
              "      <td>0</td>\n",
              "      <td>1</td>\n",
              "      <td>0</td>\n",
              "      <td>20</td>\n",
              "      <td>13</td>\n",
              "      <td>0.0</td>\n",
              "      <td>0.0</td>\n",
              "      <td>0.0</td>\n",
              "      <td>1.0</td>\n",
              "      <td>0.0</td>\n",
              "      <td>0.0</td>\n",
              "      <td>1.0</td>\n",
              "      <td>8.257812</td>\n",
              "    </tr>\n",
              "    <tr>\n",
              "      <th>1</th>\n",
              "      <td>HOBBIES_1_001_CA_1_validation</td>\n",
              "      <td>HOBBIES_1_001</td>\n",
              "      <td>HOBBIES_1</td>\n",
              "      <td>HOBBIES</td>\n",
              "      <td>CA_1</td>\n",
              "      <td>CA</td>\n",
              "      <td>1202</td>\n",
              "      <td>0</td>\n",
              "      <td>2014-05-14</td>\n",
              "      <td>11415</td>\n",
              "      <td>5</td>\n",
              "      <td>5</td>\n",
              "      <td>2014</td>\n",
              "      <td>0</td>\n",
              "      <td>0</td>\n",
              "      <td>1</td>\n",
              "      <td>20</td>\n",
              "      <td>14</td>\n",
              "      <td>0.0</td>\n",
              "      <td>0.0</td>\n",
              "      <td>0.0</td>\n",
              "      <td>1.0</td>\n",
              "      <td>0.0</td>\n",
              "      <td>1.0</td>\n",
              "      <td>0.0</td>\n",
              "      <td>8.257812</td>\n",
              "    </tr>\n",
              "    <tr>\n",
              "      <th>2</th>\n",
              "      <td>HOBBIES_1_001_CA_1_validation</td>\n",
              "      <td>HOBBIES_1_001</td>\n",
              "      <td>HOBBIES_1</td>\n",
              "      <td>HOBBIES</td>\n",
              "      <td>CA_1</td>\n",
              "      <td>CA</td>\n",
              "      <td>1203</td>\n",
              "      <td>0</td>\n",
              "      <td>2014-05-15</td>\n",
              "      <td>11415</td>\n",
              "      <td>6</td>\n",
              "      <td>5</td>\n",
              "      <td>2014</td>\n",
              "      <td>0</td>\n",
              "      <td>1</td>\n",
              "      <td>1</td>\n",
              "      <td>20</td>\n",
              "      <td>15</td>\n",
              "      <td>0.0</td>\n",
              "      <td>0.0</td>\n",
              "      <td>1.0</td>\n",
              "      <td>0.0</td>\n",
              "      <td>0.0</td>\n",
              "      <td>0.0</td>\n",
              "      <td>1.0</td>\n",
              "      <td>8.257812</td>\n",
              "    </tr>\n",
              "    <tr>\n",
              "      <th>3</th>\n",
              "      <td>HOBBIES_1_001_CA_1_validation</td>\n",
              "      <td>HOBBIES_1_001</td>\n",
              "      <td>HOBBIES_1</td>\n",
              "      <td>HOBBIES</td>\n",
              "      <td>CA_1</td>\n",
              "      <td>CA</td>\n",
              "      <td>1204</td>\n",
              "      <td>0</td>\n",
              "      <td>2014-05-16</td>\n",
              "      <td>11415</td>\n",
              "      <td>7</td>\n",
              "      <td>5</td>\n",
              "      <td>2014</td>\n",
              "      <td>0</td>\n",
              "      <td>0</td>\n",
              "      <td>0</td>\n",
              "      <td>20</td>\n",
              "      <td>16</td>\n",
              "      <td>0.0</td>\n",
              "      <td>0.0</td>\n",
              "      <td>1.0</td>\n",
              "      <td>1.0</td>\n",
              "      <td>0.0</td>\n",
              "      <td>0.0</td>\n",
              "      <td>1.0</td>\n",
              "      <td>8.257812</td>\n",
              "    </tr>\n",
              "    <tr>\n",
              "      <th>4</th>\n",
              "      <td>HOBBIES_1_002_CA_1_validation</td>\n",
              "      <td>HOBBIES_1_002</td>\n",
              "      <td>HOBBIES_1</td>\n",
              "      <td>HOBBIES</td>\n",
              "      <td>CA_1</td>\n",
              "      <td>CA</td>\n",
              "      <td>1201</td>\n",
              "      <td>0</td>\n",
              "      <td>2014-05-13</td>\n",
              "      <td>11415</td>\n",
              "      <td>4</td>\n",
              "      <td>5</td>\n",
              "      <td>2014</td>\n",
              "      <td>0</td>\n",
              "      <td>1</td>\n",
              "      <td>0</td>\n",
              "      <td>20</td>\n",
              "      <td>13</td>\n",
              "      <td>0.0</td>\n",
              "      <td>0.0</td>\n",
              "      <td>0.0</td>\n",
              "      <td>0.0</td>\n",
              "      <td>0.0</td>\n",
              "      <td>0.0</td>\n",
              "      <td>1.0</td>\n",
              "      <td>3.970703</td>\n",
              "    </tr>\n",
              "  </tbody>\n",
              "</table>\n",
              "</div>"
            ],
            "text/plain": [
              "                              id        item_id  ... lag_56 sell_price\n",
              "0  HOBBIES_1_001_CA_1_validation  HOBBIES_1_001  ...    1.0   8.257812\n",
              "1  HOBBIES_1_001_CA_1_validation  HOBBIES_1_001  ...    0.0   8.257812\n",
              "2  HOBBIES_1_001_CA_1_validation  HOBBIES_1_001  ...    1.0   8.257812\n",
              "3  HOBBIES_1_001_CA_1_validation  HOBBIES_1_001  ...    1.0   8.257812\n",
              "4  HOBBIES_1_002_CA_1_validation  HOBBIES_1_002  ...    1.0   3.970703\n",
              "\n",
              "[5 rows x 26 columns]"
            ]
          },
          "metadata": {},
          "execution_count": 36
        }
      ]
    },
    {
      "cell_type": "code",
      "metadata": {
        "id": "pBAAF6tIqEuB"
      },
      "source": [
        "#drop id, dept_id, cat_id, state_id and date column\n",
        "df_.drop(['id','dept_id','cat_id','state_id','date'],axis = 1, inplace = True)"
      ],
      "execution_count": 37,
      "outputs": []
    },
    {
      "cell_type": "code",
      "metadata": {
        "colab": {
          "base_uri": "https://localhost:8080/",
          "height": 226
        },
        "id": "c20KEQABqEvt",
        "outputId": "dd4ebc68-a682-460b-ba2e-d26cccfd3997"
      },
      "source": [
        "df_.head()"
      ],
      "execution_count": 38,
      "outputs": [
        {
          "output_type": "execute_result",
          "data": {
            "text/html": [
              "<div>\n",
              "<style scoped>\n",
              "    .dataframe tbody tr th:only-of-type {\n",
              "        vertical-align: middle;\n",
              "    }\n",
              "\n",
              "    .dataframe tbody tr th {\n",
              "        vertical-align: top;\n",
              "    }\n",
              "\n",
              "    .dataframe thead th {\n",
              "        text-align: right;\n",
              "    }\n",
              "</style>\n",
              "<table border=\"1\" class=\"dataframe\">\n",
              "  <thead>\n",
              "    <tr style=\"text-align: right;\">\n",
              "      <th></th>\n",
              "      <th>item_id</th>\n",
              "      <th>store_id</th>\n",
              "      <th>d</th>\n",
              "      <th>Sales</th>\n",
              "      <th>wm_yr_wk</th>\n",
              "      <th>wday</th>\n",
              "      <th>month</th>\n",
              "      <th>year</th>\n",
              "      <th>snap_CA</th>\n",
              "      <th>snap_TX</th>\n",
              "      <th>snap_WI</th>\n",
              "      <th>week</th>\n",
              "      <th>day</th>\n",
              "      <th>event_num</th>\n",
              "      <th>weekend</th>\n",
              "      <th>lag_28</th>\n",
              "      <th>lag_35</th>\n",
              "      <th>lag_42</th>\n",
              "      <th>lag_49</th>\n",
              "      <th>lag_56</th>\n",
              "      <th>sell_price</th>\n",
              "    </tr>\n",
              "  </thead>\n",
              "  <tbody>\n",
              "    <tr>\n",
              "      <th>0</th>\n",
              "      <td>HOBBIES_1_001</td>\n",
              "      <td>CA_1</td>\n",
              "      <td>1201</td>\n",
              "      <td>0</td>\n",
              "      <td>11415</td>\n",
              "      <td>4</td>\n",
              "      <td>5</td>\n",
              "      <td>2014</td>\n",
              "      <td>0</td>\n",
              "      <td>1</td>\n",
              "      <td>0</td>\n",
              "      <td>20</td>\n",
              "      <td>13</td>\n",
              "      <td>0.0</td>\n",
              "      <td>0.0</td>\n",
              "      <td>0.0</td>\n",
              "      <td>1.0</td>\n",
              "      <td>0.0</td>\n",
              "      <td>0.0</td>\n",
              "      <td>1.0</td>\n",
              "      <td>8.257812</td>\n",
              "    </tr>\n",
              "    <tr>\n",
              "      <th>1</th>\n",
              "      <td>HOBBIES_1_001</td>\n",
              "      <td>CA_1</td>\n",
              "      <td>1202</td>\n",
              "      <td>0</td>\n",
              "      <td>11415</td>\n",
              "      <td>5</td>\n",
              "      <td>5</td>\n",
              "      <td>2014</td>\n",
              "      <td>0</td>\n",
              "      <td>0</td>\n",
              "      <td>1</td>\n",
              "      <td>20</td>\n",
              "      <td>14</td>\n",
              "      <td>0.0</td>\n",
              "      <td>0.0</td>\n",
              "      <td>0.0</td>\n",
              "      <td>1.0</td>\n",
              "      <td>0.0</td>\n",
              "      <td>1.0</td>\n",
              "      <td>0.0</td>\n",
              "      <td>8.257812</td>\n",
              "    </tr>\n",
              "    <tr>\n",
              "      <th>2</th>\n",
              "      <td>HOBBIES_1_001</td>\n",
              "      <td>CA_1</td>\n",
              "      <td>1203</td>\n",
              "      <td>0</td>\n",
              "      <td>11415</td>\n",
              "      <td>6</td>\n",
              "      <td>5</td>\n",
              "      <td>2014</td>\n",
              "      <td>0</td>\n",
              "      <td>1</td>\n",
              "      <td>1</td>\n",
              "      <td>20</td>\n",
              "      <td>15</td>\n",
              "      <td>0.0</td>\n",
              "      <td>0.0</td>\n",
              "      <td>1.0</td>\n",
              "      <td>0.0</td>\n",
              "      <td>0.0</td>\n",
              "      <td>0.0</td>\n",
              "      <td>1.0</td>\n",
              "      <td>8.257812</td>\n",
              "    </tr>\n",
              "    <tr>\n",
              "      <th>3</th>\n",
              "      <td>HOBBIES_1_001</td>\n",
              "      <td>CA_1</td>\n",
              "      <td>1204</td>\n",
              "      <td>0</td>\n",
              "      <td>11415</td>\n",
              "      <td>7</td>\n",
              "      <td>5</td>\n",
              "      <td>2014</td>\n",
              "      <td>0</td>\n",
              "      <td>0</td>\n",
              "      <td>0</td>\n",
              "      <td>20</td>\n",
              "      <td>16</td>\n",
              "      <td>0.0</td>\n",
              "      <td>0.0</td>\n",
              "      <td>1.0</td>\n",
              "      <td>1.0</td>\n",
              "      <td>0.0</td>\n",
              "      <td>0.0</td>\n",
              "      <td>1.0</td>\n",
              "      <td>8.257812</td>\n",
              "    </tr>\n",
              "    <tr>\n",
              "      <th>4</th>\n",
              "      <td>HOBBIES_1_002</td>\n",
              "      <td>CA_1</td>\n",
              "      <td>1201</td>\n",
              "      <td>0</td>\n",
              "      <td>11415</td>\n",
              "      <td>4</td>\n",
              "      <td>5</td>\n",
              "      <td>2014</td>\n",
              "      <td>0</td>\n",
              "      <td>1</td>\n",
              "      <td>0</td>\n",
              "      <td>20</td>\n",
              "      <td>13</td>\n",
              "      <td>0.0</td>\n",
              "      <td>0.0</td>\n",
              "      <td>0.0</td>\n",
              "      <td>0.0</td>\n",
              "      <td>0.0</td>\n",
              "      <td>0.0</td>\n",
              "      <td>1.0</td>\n",
              "      <td>3.970703</td>\n",
              "    </tr>\n",
              "  </tbody>\n",
              "</table>\n",
              "</div>"
            ],
            "text/plain": [
              "         item_id store_id     d  Sales  ...  lag_42  lag_49  lag_56  sell_price\n",
              "0  HOBBIES_1_001     CA_1  1201      0  ...     0.0     0.0     1.0    8.257812\n",
              "1  HOBBIES_1_001     CA_1  1202      0  ...     0.0     1.0     0.0    8.257812\n",
              "2  HOBBIES_1_001     CA_1  1203      0  ...     0.0     0.0     1.0    8.257812\n",
              "3  HOBBIES_1_001     CA_1  1204      0  ...     0.0     0.0     1.0    8.257812\n",
              "4  HOBBIES_1_002     CA_1  1201      0  ...     0.0     0.0     1.0    3.970703\n",
              "\n",
              "[5 rows x 21 columns]"
            ]
          },
          "metadata": {},
          "execution_count": 38
        }
      ]
    },
    {
      "cell_type": "code",
      "metadata": {
        "colab": {
          "base_uri": "https://localhost:8080/",
          "height": 461
        },
        "id": "FWQ24mWC2gh2",
        "outputId": "cbc5a062-1b9c-444c-fd85-89150edab2bd"
      },
      "source": [
        "reduce_mem_usage(df_)"
      ],
      "execution_count": 39,
      "outputs": [
        {
          "output_type": "stream",
          "name": "stdout",
          "text": [
            "Mem. usage decreased to 1115.28 Mb (9.8% reduction)\n"
          ]
        },
        {
          "output_type": "execute_result",
          "data": {
            "text/html": [
              "<div>\n",
              "<style scoped>\n",
              "    .dataframe tbody tr th:only-of-type {\n",
              "        vertical-align: middle;\n",
              "    }\n",
              "\n",
              "    .dataframe tbody tr th {\n",
              "        vertical-align: top;\n",
              "    }\n",
              "\n",
              "    .dataframe thead th {\n",
              "        text-align: right;\n",
              "    }\n",
              "</style>\n",
              "<table border=\"1\" class=\"dataframe\">\n",
              "  <thead>\n",
              "    <tr style=\"text-align: right;\">\n",
              "      <th></th>\n",
              "      <th>item_id</th>\n",
              "      <th>store_id</th>\n",
              "      <th>d</th>\n",
              "      <th>Sales</th>\n",
              "      <th>wm_yr_wk</th>\n",
              "      <th>wday</th>\n",
              "      <th>month</th>\n",
              "      <th>year</th>\n",
              "      <th>snap_CA</th>\n",
              "      <th>snap_TX</th>\n",
              "      <th>snap_WI</th>\n",
              "      <th>week</th>\n",
              "      <th>day</th>\n",
              "      <th>event_num</th>\n",
              "      <th>weekend</th>\n",
              "      <th>lag_28</th>\n",
              "      <th>lag_35</th>\n",
              "      <th>lag_42</th>\n",
              "      <th>lag_49</th>\n",
              "      <th>lag_56</th>\n",
              "      <th>sell_price</th>\n",
              "    </tr>\n",
              "  </thead>\n",
              "  <tbody>\n",
              "    <tr>\n",
              "      <th>0</th>\n",
              "      <td>HOBBIES_1_001</td>\n",
              "      <td>CA_1</td>\n",
              "      <td>1201</td>\n",
              "      <td>0</td>\n",
              "      <td>11415</td>\n",
              "      <td>4</td>\n",
              "      <td>5</td>\n",
              "      <td>2014</td>\n",
              "      <td>0</td>\n",
              "      <td>1</td>\n",
              "      <td>0</td>\n",
              "      <td>20</td>\n",
              "      <td>13</td>\n",
              "      <td>0.0</td>\n",
              "      <td>0.0</td>\n",
              "      <td>0.0</td>\n",
              "      <td>1.0</td>\n",
              "      <td>0.0</td>\n",
              "      <td>0.0</td>\n",
              "      <td>1.0</td>\n",
              "      <td>8.257812</td>\n",
              "    </tr>\n",
              "    <tr>\n",
              "      <th>1</th>\n",
              "      <td>HOBBIES_1_001</td>\n",
              "      <td>CA_1</td>\n",
              "      <td>1202</td>\n",
              "      <td>0</td>\n",
              "      <td>11415</td>\n",
              "      <td>5</td>\n",
              "      <td>5</td>\n",
              "      <td>2014</td>\n",
              "      <td>0</td>\n",
              "      <td>0</td>\n",
              "      <td>1</td>\n",
              "      <td>20</td>\n",
              "      <td>14</td>\n",
              "      <td>0.0</td>\n",
              "      <td>0.0</td>\n",
              "      <td>0.0</td>\n",
              "      <td>1.0</td>\n",
              "      <td>0.0</td>\n",
              "      <td>1.0</td>\n",
              "      <td>0.0</td>\n",
              "      <td>8.257812</td>\n",
              "    </tr>\n",
              "    <tr>\n",
              "      <th>2</th>\n",
              "      <td>HOBBIES_1_001</td>\n",
              "      <td>CA_1</td>\n",
              "      <td>1203</td>\n",
              "      <td>0</td>\n",
              "      <td>11415</td>\n",
              "      <td>6</td>\n",
              "      <td>5</td>\n",
              "      <td>2014</td>\n",
              "      <td>0</td>\n",
              "      <td>1</td>\n",
              "      <td>1</td>\n",
              "      <td>20</td>\n",
              "      <td>15</td>\n",
              "      <td>0.0</td>\n",
              "      <td>0.0</td>\n",
              "      <td>1.0</td>\n",
              "      <td>0.0</td>\n",
              "      <td>0.0</td>\n",
              "      <td>0.0</td>\n",
              "      <td>1.0</td>\n",
              "      <td>8.257812</td>\n",
              "    </tr>\n",
              "    <tr>\n",
              "      <th>3</th>\n",
              "      <td>HOBBIES_1_001</td>\n",
              "      <td>CA_1</td>\n",
              "      <td>1204</td>\n",
              "      <td>0</td>\n",
              "      <td>11415</td>\n",
              "      <td>7</td>\n",
              "      <td>5</td>\n",
              "      <td>2014</td>\n",
              "      <td>0</td>\n",
              "      <td>0</td>\n",
              "      <td>0</td>\n",
              "      <td>20</td>\n",
              "      <td>16</td>\n",
              "      <td>0.0</td>\n",
              "      <td>0.0</td>\n",
              "      <td>1.0</td>\n",
              "      <td>1.0</td>\n",
              "      <td>0.0</td>\n",
              "      <td>0.0</td>\n",
              "      <td>1.0</td>\n",
              "      <td>8.257812</td>\n",
              "    </tr>\n",
              "    <tr>\n",
              "      <th>4</th>\n",
              "      <td>HOBBIES_1_002</td>\n",
              "      <td>CA_1</td>\n",
              "      <td>1201</td>\n",
              "      <td>0</td>\n",
              "      <td>11415</td>\n",
              "      <td>4</td>\n",
              "      <td>5</td>\n",
              "      <td>2014</td>\n",
              "      <td>0</td>\n",
              "      <td>1</td>\n",
              "      <td>0</td>\n",
              "      <td>20</td>\n",
              "      <td>13</td>\n",
              "      <td>0.0</td>\n",
              "      <td>0.0</td>\n",
              "      <td>0.0</td>\n",
              "      <td>0.0</td>\n",
              "      <td>0.0</td>\n",
              "      <td>0.0</td>\n",
              "      <td>1.0</td>\n",
              "      <td>3.970703</td>\n",
              "    </tr>\n",
              "    <tr>\n",
              "      <th>...</th>\n",
              "      <td>...</td>\n",
              "      <td>...</td>\n",
              "      <td>...</td>\n",
              "      <td>...</td>\n",
              "      <td>...</td>\n",
              "      <td>...</td>\n",
              "      <td>...</td>\n",
              "      <td>...</td>\n",
              "      <td>...</td>\n",
              "      <td>...</td>\n",
              "      <td>...</td>\n",
              "      <td>...</td>\n",
              "      <td>...</td>\n",
              "      <td>...</td>\n",
              "      <td>...</td>\n",
              "      <td>...</td>\n",
              "      <td>...</td>\n",
              "      <td>...</td>\n",
              "      <td>...</td>\n",
              "      <td>...</td>\n",
              "      <td>...</td>\n",
              "    </tr>\n",
              "    <tr>\n",
              "      <th>21262854</th>\n",
              "      <td>FOODS_3_825</td>\n",
              "      <td>WI_3</td>\n",
              "      <td>1913</td>\n",
              "      <td>0</td>\n",
              "      <td>11613</td>\n",
              "      <td>2</td>\n",
              "      <td>4</td>\n",
              "      <td>2016</td>\n",
              "      <td>0</td>\n",
              "      <td>0</td>\n",
              "      <td>0</td>\n",
              "      <td>16</td>\n",
              "      <td>24</td>\n",
              "      <td>0.0</td>\n",
              "      <td>1.0</td>\n",
              "      <td>1.0</td>\n",
              "      <td>0.0</td>\n",
              "      <td>1.0</td>\n",
              "      <td>2.0</td>\n",
              "      <td>0.0</td>\n",
              "      <td>3.980469</td>\n",
              "    </tr>\n",
              "    <tr>\n",
              "      <th>21262855</th>\n",
              "      <td>FOODS_3_826</td>\n",
              "      <td>WI_3</td>\n",
              "      <td>1912</td>\n",
              "      <td>1</td>\n",
              "      <td>11613</td>\n",
              "      <td>1</td>\n",
              "      <td>4</td>\n",
              "      <td>2016</td>\n",
              "      <td>0</td>\n",
              "      <td>0</td>\n",
              "      <td>0</td>\n",
              "      <td>16</td>\n",
              "      <td>23</td>\n",
              "      <td>0.0</td>\n",
              "      <td>1.0</td>\n",
              "      <td>2.0</td>\n",
              "      <td>1.0</td>\n",
              "      <td>1.0</td>\n",
              "      <td>2.0</td>\n",
              "      <td>0.0</td>\n",
              "      <td>1.280273</td>\n",
              "    </tr>\n",
              "    <tr>\n",
              "      <th>21262856</th>\n",
              "      <td>FOODS_3_826</td>\n",
              "      <td>WI_3</td>\n",
              "      <td>1913</td>\n",
              "      <td>3</td>\n",
              "      <td>11613</td>\n",
              "      <td>2</td>\n",
              "      <td>4</td>\n",
              "      <td>2016</td>\n",
              "      <td>0</td>\n",
              "      <td>0</td>\n",
              "      <td>0</td>\n",
              "      <td>16</td>\n",
              "      <td>24</td>\n",
              "      <td>0.0</td>\n",
              "      <td>1.0</td>\n",
              "      <td>4.0</td>\n",
              "      <td>1.0</td>\n",
              "      <td>3.0</td>\n",
              "      <td>2.0</td>\n",
              "      <td>0.0</td>\n",
              "      <td>1.280273</td>\n",
              "    </tr>\n",
              "    <tr>\n",
              "      <th>21262857</th>\n",
              "      <td>FOODS_3_827</td>\n",
              "      <td>WI_3</td>\n",
              "      <td>1912</td>\n",
              "      <td>0</td>\n",
              "      <td>11613</td>\n",
              "      <td>1</td>\n",
              "      <td>4</td>\n",
              "      <td>2016</td>\n",
              "      <td>0</td>\n",
              "      <td>0</td>\n",
              "      <td>0</td>\n",
              "      <td>16</td>\n",
              "      <td>23</td>\n",
              "      <td>0.0</td>\n",
              "      <td>1.0</td>\n",
              "      <td>0.0</td>\n",
              "      <td>1.0</td>\n",
              "      <td>2.0</td>\n",
              "      <td>3.0</td>\n",
              "      <td>4.0</td>\n",
              "      <td>1.000000</td>\n",
              "    </tr>\n",
              "    <tr>\n",
              "      <th>21262858</th>\n",
              "      <td>FOODS_3_827</td>\n",
              "      <td>WI_3</td>\n",
              "      <td>1913</td>\n",
              "      <td>0</td>\n",
              "      <td>11613</td>\n",
              "      <td>2</td>\n",
              "      <td>4</td>\n",
              "      <td>2016</td>\n",
              "      <td>0</td>\n",
              "      <td>0</td>\n",
              "      <td>0</td>\n",
              "      <td>16</td>\n",
              "      <td>24</td>\n",
              "      <td>0.0</td>\n",
              "      <td>1.0</td>\n",
              "      <td>5.0</td>\n",
              "      <td>4.0</td>\n",
              "      <td>4.0</td>\n",
              "      <td>0.0</td>\n",
              "      <td>0.0</td>\n",
              "      <td>1.000000</td>\n",
              "    </tr>\n",
              "  </tbody>\n",
              "</table>\n",
              "<p>21262859 rows × 21 columns</p>\n",
              "</div>"
            ],
            "text/plain": [
              "                item_id store_id     d  ...  lag_49  lag_56  sell_price\n",
              "0         HOBBIES_1_001     CA_1  1201  ...     0.0     1.0    8.257812\n",
              "1         HOBBIES_1_001     CA_1  1202  ...     1.0     0.0    8.257812\n",
              "2         HOBBIES_1_001     CA_1  1203  ...     0.0     1.0    8.257812\n",
              "3         HOBBIES_1_001     CA_1  1204  ...     0.0     1.0    8.257812\n",
              "4         HOBBIES_1_002     CA_1  1201  ...     0.0     1.0    3.970703\n",
              "...                 ...      ...   ...  ...     ...     ...         ...\n",
              "21262854    FOODS_3_825     WI_3  1913  ...     2.0     0.0    3.980469\n",
              "21262855    FOODS_3_826     WI_3  1912  ...     2.0     0.0    1.280273\n",
              "21262856    FOODS_3_826     WI_3  1913  ...     2.0     0.0    1.280273\n",
              "21262857    FOODS_3_827     WI_3  1912  ...     3.0     4.0    1.000000\n",
              "21262858    FOODS_3_827     WI_3  1913  ...     0.0     0.0    1.000000\n",
              "\n",
              "[21262859 rows x 21 columns]"
            ]
          },
          "metadata": {},
          "execution_count": 39
        }
      ]
    },
    {
      "cell_type": "code",
      "metadata": {
        "colab": {
          "base_uri": "https://localhost:8080/",
          "height": 1000
        },
        "id": "aOYTXOnyjrl4",
        "outputId": "85cf9038-2fec-47be-f2e5-285178efc7c2"
      },
      "source": [
        "#Heatmap and correlation (Check correlation between features)\n",
        "with sns.axes_style(\"white\"):\n",
        "    plt.figure(figsize=(27,20))\n",
        "    sns.heatmap(df_.corr(),annot=True,linewidths=.5, cmap=\"YlGnBu\",square=True)"
      ],
      "execution_count": 30,
      "outputs": [
        {
          "output_type": "display_data",
          "data": {
            "image/png": "[encoded data removed]",
            "text/plain": [
              "<Figure size 1944x1440 with 2 Axes>"
            ]
          },
          "metadata": {}
        }
      ]
    },
    {
      "cell_type": "markdown",
      "metadata": {
        "id": "2lTYRvN8rgN1"
      },
      "source": [
        "# **Modeling Method**\n",
        "After Preprocessing and Feature Engineering method the dataset was applied 3 ML algorithm. Before apply ML algorithm, categorical data have to encode to numerical variable. \n",
        "1. DecisionTree Regressor\n",
        "2. KNN Regressor\n",
        "3. Linear Regression"
      ]
    },
    {
      "cell_type": "code",
      "metadata": {
        "id": "b99MAohr-5fN"
      },
      "source": [
        "#import the necessary library for built modeling, encoding and model evaluation\n",
        "from sklearn.preprocessing import LabelEncoder\n",
        "from sklearn.preprocessing import StandardScaler\n",
        "\n",
        "from sklearn.tree import DecisionTreeRegressor\n",
        "from sklearn.ensemble import RandomForestRegressor\n",
        "from sklearn.neighbors import KNeighborsRegressor\n",
        "from sklearn.linear_model import LinearRegression\n",
        "from sklearn.model_selection import GridSearchCV\n",
        "\n",
        "from sklearn.metrics import mean_squared_error\n"
      ],
      "execution_count": 24,
      "outputs": []
    },
    {
      "cell_type": "code",
      "metadata": {
        "id": "zy-YTTULF9o0"
      },
      "source": [
        "#create function for convert non-numerical data to numerical data by use Label encoder\n",
        "def tranform(dataset):\n",
        "    for column in dataset.columns:\n",
        "        if dataset[column].dtypes == type(object):\n",
        "            le = LabelEncoder()\n",
        "            dataset[column]=le.fit_transform(dataset[column])\n",
        "    return dataset"
      ],
      "execution_count": 35,
      "outputs": []
    },
    {
      "cell_type": "code",
      "metadata": {
        "colab": {
          "base_uri": "https://localhost:8080/"
        },
        "id": "CbHA8-zSF_iP",
        "outputId": "ae9dfe0f-6d77-4ecf-dee1-1ffda3ad019a"
      },
      "source": [
        "df_.info()"
      ],
      "execution_count": 40,
      "outputs": [
        {
          "output_type": "stream",
          "name": "stdout",
          "text": [
            "<class 'pandas.core.frame.DataFrame'>\n",
            "Int64Index: 21262859 entries, 0 to 21262858\n",
            "Data columns (total 21 columns):\n",
            " #   Column      Dtype  \n",
            "---  ------      -----  \n",
            " 0   item_id     object \n",
            " 1   store_id    object \n",
            " 2   d           int16  \n",
            " 3   Sales       int16  \n",
            " 4   wm_yr_wk    int16  \n",
            " 5   wday        int8   \n",
            " 6   month       int8   \n",
            " 7   year        int16  \n",
            " 8   snap_CA     int8   \n",
            " 9   snap_TX     int8   \n",
            " 10  snap_WI     int8   \n",
            " 11  week        int8   \n",
            " 12  day         int8   \n",
            " 13  event_num   float16\n",
            " 14  weekend     float16\n",
            " 15  lag_28      float16\n",
            " 16  lag_35      float16\n",
            " 17  lag_42      float16\n",
            " 18  lag_49      float16\n",
            " 19  lag_56      float16\n",
            " 20  sell_price  float16\n",
            "dtypes: float16(8), int16(4), int8(7), object(2)\n",
            "memory usage: 1.1+ GB\n"
          ]
        }
      ]
    },
    {
      "cell_type": "code",
      "metadata": {
        "id": "UiNcNSpfGbNg"
      },
      "source": [
        "#apply encoding function for covert non-numeriacal to numerical\n",
        "df_ = tranform(df_)"
      ],
      "execution_count": 41,
      "outputs": []
    },
    {
      "cell_type": "code",
      "metadata": {
        "colab": {
          "base_uri": "https://localhost:8080/",
          "height": 226
        },
        "id": "mvOjkixvGipg",
        "outputId": "b80db07c-1435-432a-8523-55a9e4d77789"
      },
      "source": [
        "df_.head()"
      ],
      "execution_count": 43,
      "outputs": [
        {
          "output_type": "execute_result",
          "data": {
            "text/html": [
              "<div>\n",
              "<style scoped>\n",
              "    .dataframe tbody tr th:only-of-type {\n",
              "        vertical-align: middle;\n",
              "    }\n",
              "\n",
              "    .dataframe tbody tr th {\n",
              "        vertical-align: top;\n",
              "    }\n",
              "\n",
              "    .dataframe thead th {\n",
              "        text-align: right;\n",
              "    }\n",
              "</style>\n",
              "<table border=\"1\" class=\"dataframe\">\n",
              "  <thead>\n",
              "    <tr style=\"text-align: right;\">\n",
              "      <th></th>\n",
              "      <th>item_id</th>\n",
              "      <th>store_id</th>\n",
              "      <th>d</th>\n",
              "      <th>Sales</th>\n",
              "      <th>wm_yr_wk</th>\n",
              "      <th>wday</th>\n",
              "      <th>month</th>\n",
              "      <th>year</th>\n",
              "      <th>snap_CA</th>\n",
              "      <th>snap_TX</th>\n",
              "      <th>snap_WI</th>\n",
              "      <th>week</th>\n",
              "      <th>day</th>\n",
              "      <th>event_num</th>\n",
              "      <th>weekend</th>\n",
              "      <th>lag_28</th>\n",
              "      <th>lag_35</th>\n",
              "      <th>lag_42</th>\n",
              "      <th>lag_49</th>\n",
              "      <th>lag_56</th>\n",
              "      <th>sell_price</th>\n",
              "    </tr>\n",
              "  </thead>\n",
              "  <tbody>\n",
              "    <tr>\n",
              "      <th>0</th>\n",
              "      <td>1437</td>\n",
              "      <td>0</td>\n",
              "      <td>1201</td>\n",
              "      <td>0</td>\n",
              "      <td>11415</td>\n",
              "      <td>4</td>\n",
              "      <td>5</td>\n",
              "      <td>2014</td>\n",
              "      <td>0</td>\n",
              "      <td>1</td>\n",
              "      <td>0</td>\n",
              "      <td>20</td>\n",
              "      <td>13</td>\n",
              "      <td>0.0</td>\n",
              "      <td>0.0</td>\n",
              "      <td>0.0</td>\n",
              "      <td>1.0</td>\n",
              "      <td>0.0</td>\n",
              "      <td>0.0</td>\n",
              "      <td>1.0</td>\n",
              "      <td>8.257812</td>\n",
              "    </tr>\n",
              "    <tr>\n",
              "      <th>1</th>\n",
              "      <td>1437</td>\n",
              "      <td>0</td>\n",
              "      <td>1202</td>\n",
              "      <td>0</td>\n",
              "      <td>11415</td>\n",
              "      <td>5</td>\n",
              "      <td>5</td>\n",
              "      <td>2014</td>\n",
              "      <td>0</td>\n",
              "      <td>0</td>\n",
              "      <td>1</td>\n",
              "      <td>20</td>\n",
              "      <td>14</td>\n",
              "      <td>0.0</td>\n",
              "      <td>0.0</td>\n",
              "      <td>0.0</td>\n",
              "      <td>1.0</td>\n",
              "      <td>0.0</td>\n",
              "      <td>1.0</td>\n",
              "      <td>0.0</td>\n",
              "      <td>8.257812</td>\n",
              "    </tr>\n",
              "    <tr>\n",
              "      <th>2</th>\n",
              "      <td>1437</td>\n",
              "      <td>0</td>\n",
              "      <td>1203</td>\n",
              "      <td>0</td>\n",
              "      <td>11415</td>\n",
              "      <td>6</td>\n",
              "      <td>5</td>\n",
              "      <td>2014</td>\n",
              "      <td>0</td>\n",
              "      <td>1</td>\n",
              "      <td>1</td>\n",
              "      <td>20</td>\n",
              "      <td>15</td>\n",
              "      <td>0.0</td>\n",
              "      <td>0.0</td>\n",
              "      <td>1.0</td>\n",
              "      <td>0.0</td>\n",
              "      <td>0.0</td>\n",
              "      <td>0.0</td>\n",
              "      <td>1.0</td>\n",
              "      <td>8.257812</td>\n",
              "    </tr>\n",
              "    <tr>\n",
              "      <th>3</th>\n",
              "      <td>1437</td>\n",
              "      <td>0</td>\n",
              "      <td>1204</td>\n",
              "      <td>0</td>\n",
              "      <td>11415</td>\n",
              "      <td>7</td>\n",
              "      <td>5</td>\n",
              "      <td>2014</td>\n",
              "      <td>0</td>\n",
              "      <td>0</td>\n",
              "      <td>0</td>\n",
              "      <td>20</td>\n",
              "      <td>16</td>\n",
              "      <td>0.0</td>\n",
              "      <td>0.0</td>\n",
              "      <td>1.0</td>\n",
              "      <td>1.0</td>\n",
              "      <td>0.0</td>\n",
              "      <td>0.0</td>\n",
              "      <td>1.0</td>\n",
              "      <td>8.257812</td>\n",
              "    </tr>\n",
              "    <tr>\n",
              "      <th>4</th>\n",
              "      <td>1438</td>\n",
              "      <td>0</td>\n",
              "      <td>1201</td>\n",
              "      <td>0</td>\n",
              "      <td>11415</td>\n",
              "      <td>4</td>\n",
              "      <td>5</td>\n",
              "      <td>2014</td>\n",
              "      <td>0</td>\n",
              "      <td>1</td>\n",
              "      <td>0</td>\n",
              "      <td>20</td>\n",
              "      <td>13</td>\n",
              "      <td>0.0</td>\n",
              "      <td>0.0</td>\n",
              "      <td>0.0</td>\n",
              "      <td>0.0</td>\n",
              "      <td>0.0</td>\n",
              "      <td>0.0</td>\n",
              "      <td>1.0</td>\n",
              "      <td>3.970703</td>\n",
              "    </tr>\n",
              "  </tbody>\n",
              "</table>\n",
              "</div>"
            ],
            "text/plain": [
              "   item_id  store_id     d  Sales  ...  lag_42  lag_49  lag_56  sell_price\n",
              "0     1437         0  1201      0  ...     0.0     0.0     1.0    8.257812\n",
              "1     1437         0  1202      0  ...     0.0     1.0     0.0    8.257812\n",
              "2     1437         0  1203      0  ...     0.0     0.0     1.0    8.257812\n",
              "3     1437         0  1204      0  ...     0.0     0.0     1.0    8.257812\n",
              "4     1438         0  1201      0  ...     0.0     0.0     1.0    3.970703\n",
              "\n",
              "[5 rows x 21 columns]"
            ]
          },
          "metadata": {},
          "execution_count": 43
        }
      ]
    },
    {
      "cell_type": "code",
      "metadata": {
        "id": "FuD8shp1-Zy8"
      },
      "source": [
        "#split the trainning data and test data by the objective is forecasting sales 28 so test set is the data of last 28 day\n",
        "X_train = df_[df_[\"d\"] < 1886].drop(columns=[\"Sales\"])\n",
        "X_val = df_[df_[\"d\"].between(1886, 1913)].drop(columns=[\"Sales\"])\n",
        "X_test = df_[df_[\"d\"] > 1913].drop(columns=[\"Sales\"])\n",
        "\n",
        "#Create the label data\n",
        "y_train = df_[df_[\"d\"] < 1886][\"Sales\"]\n",
        "y_val = df_[df_[\"d\"].between(1886, 1913)][\"Sales\"]"
      ],
      "execution_count": 23,
      "outputs": []
    },
    {
      "cell_type": "code",
      "metadata": {
        "id": "9ki00fiA-5hn"
      },
      "source": [
        "#convert the following column to category type\n",
        "cols = ['wday','month','year','snap_CA','snap_TX','snap_WI','week','day','event_num','weekend']\n",
        "\n",
        "for col in cols:\n",
        "    X_train[col] = X_train[col].astype('category')\n",
        "    X_val[col] = X_val[col].astype('category')\n",
        "    "
      ],
      "execution_count": 25,
      "outputs": []
    },
    {
      "cell_type": "code",
      "metadata": {
        "colab": {
          "base_uri": "https://localhost:8080/"
        },
        "id": "f4YVUU6TCH4O",
        "outputId": "913ac113-8f6c-48de-8b38-91bcd3fd1dfe"
      },
      "source": [
        "X_train.info()"
      ],
      "execution_count": 26,
      "outputs": [
        {
          "output_type": "stream",
          "name": "stdout",
          "text": [
            "<class 'pandas.core.frame.DataFrame'>\n",
            "Int64Index: 20409139 entries, 0 to 20561583\n",
            "Data columns (total 20 columns):\n",
            " #   Column             Dtype   \n",
            "---  ------             -----   \n",
            " 0   d                  int16   \n",
            " 1   wm_yr_wk           int16   \n",
            " 2   wday               category\n",
            " 3   month              category\n",
            " 4   year               category\n",
            " 5   snap_CA            category\n",
            " 6   snap_TX            category\n",
            " 7   snap_WI            category\n",
            " 8   week               category\n",
            " 9   day                category\n",
            " 10  event_num          category\n",
            " 11  weekend            category\n",
            " 12  lag_28             float16 \n",
            " 13  lag_35             float16 \n",
            " 14  lag_42             float16 \n",
            " 15  lag_49             float16 \n",
            " 16  lag_56             float16 \n",
            " 17  sell_price         float16 \n",
            " 18  item_id_encoding   int16   \n",
            " 19  store_id_encoding  int8    \n",
            "dtypes: category(10), float16(6), int16(3), int8(1)\n",
            "memory usage: 720.2 MB\n"
          ]
        }
      ]
    },
    {
      "cell_type": "markdown",
      "metadata": {
        "id": "99Lqh5LwYEiQ"
      },
      "source": [
        "**Apply DecisionTree Regressor model without hyperparameter tunning**"
      ]
    },
    {
      "cell_type": "code",
      "metadata": {
        "colab": {
          "base_uri": "https://localhost:8080/"
        },
        "id": "Ceqbbfrq-5km",
        "outputId": "db415393-dbc8-4b12-c0b9-b23de2e705ad"
      },
      "source": [
        "#create DecisionTree Regressor model\n",
        "dt = DecisionTreeRegressor()\n",
        "#train the model\n",
        "dt.fit(X_train, y_train)\n"
      ],
      "execution_count": 36,
      "outputs": [
        {
          "output_type": "execute_result",
          "data": {
            "text/plain": [
              "DecisionTreeRegressor(ccp_alpha=0.0, criterion='mse', max_depth=None,\n",
              "                      max_features=None, max_leaf_nodes=None,\n",
              "                      min_impurity_decrease=0.0, min_impurity_split=None,\n",
              "                      min_samples_leaf=1, min_samples_split=2,\n",
              "                      min_weight_fraction_leaf=0.0, presort='deprecated',\n",
              "                      random_state=None, splitter='best')"
            ]
          },
          "metadata": {},
          "execution_count": 36
        }
      ]
    },
    {
      "cell_type": "code",
      "metadata": {
        "id": "1pz9IKhV-5mm",
        "colab": {
          "base_uri": "https://localhost:8080/"
        },
        "outputId": "bb5a65a3-8147-4c24-e57e-be5017cbbeb6"
      },
      "source": [
        "#predict the sales from X_val\n",
        "pred = dt.predict(X_val)\n",
        "#Model Evaluation by Root mean square error(RMSE)\n",
        "mse = mean_squared_error(pred, y_val)\n",
        "rmse = np.sqrt(mse)\n",
        "print(rmse)"
      ],
      "execution_count": 37,
      "outputs": [
        {
          "output_type": "stream",
          "name": "stdout",
          "text": [
            "3.9255808281221554\n"
          ]
        }
      ]
    },
    {
      "cell_type": "markdown",
      "metadata": {
        "id": "XChNr-nJd_jI"
      },
      "source": [
        "**Apply DecisionTree Regressor model with hyperparameter tunning by GridSearch**"
      ]
    },
    {
      "cell_type": "code",
      "metadata": {
        "id": "rjppHcHheOwr"
      },
      "source": [
        "#create dict with use with hyper parameter tunning \n",
        "param_grid = {\"criterion\": [\"mse\", \"mae\"],\n",
        "              \"min_samples_split\": [10, 20, 40],\n",
        "              \"max_depth\": [2, 6, 8],\n",
        "              \"min_samples_leaf\": [20, 40, 100],\n",
        "              \"max_leaf_nodes\": [5, 20, 100],\n",
        "              }\n",
        "\n",
        "#Apply GridSearchCV for hyperparameter tunning\n",
        "grid_cv_dt = GridSearchCV(dt, param_grid )\n",
        "#Trainning the train data\n",
        "grid_cv_dt.fit(X,y)"
      ],
      "execution_count": null,
      "outputs": []
    },
    {
      "cell_type": "code",
      "metadata": {
        "id": "EpGMXGPHeOzP"
      },
      "source": [
        "#predict the sales from X_val\n",
        "pred_ = grid_cv_dt.predict(X_val)\n",
        "#Model Evaluation by Root mean square error(RMSE)\n",
        "mse = mean_squared_error(pred_, y_val)\n",
        "rmse = np.sqrt(mse)\n",
        "print(rmse)"
      ],
      "execution_count": null,
      "outputs": []
    },
    {
      "cell_type": "markdown",
      "metadata": {
        "id": "dVVJMAAzYQ66"
      },
      "source": [
        "**Apply KNN regressor model without hyperparameter tunning**"
      ]
    },
    {
      "cell_type": "code",
      "metadata": {
        "colab": {
          "base_uri": "https://localhost:8080/"
        },
        "id": "aFCU5Dfr1B52",
        "outputId": "7873f882-b668-4f4f-95cd-f95261e6e6b4"
      },
      "source": [
        "#create KNeighborsRegressor model\n",
        "knn = KNeighborsRegressor()\n",
        "#train dataset\n",
        "knn.fit(X_train, y_train)"
      ],
      "execution_count": 38,
      "outputs": [
        {
          "output_type": "execute_result",
          "data": {
            "text/plain": [
              "KNeighborsRegressor(algorithm='auto', leaf_size=30, metric='minkowski',\n",
              "                    metric_params=None, n_jobs=None, n_neighbors=5, p=2,\n",
              "                    weights='uniform')"
            ]
          },
          "metadata": {},
          "execution_count": 38
        }
      ]
    },
    {
      "cell_type": "code",
      "metadata": {
        "colab": {
          "base_uri": "https://localhost:8080/"
        },
        "id": "hS3JMJ2J1Tdh",
        "outputId": "b687f264-9203-415f-8bab-4984d638b285"
      },
      "source": [
        "#predict the sales from X_val\n",
        "pred_knn = knn.predict(X_val)\n",
        "#Evaluation KNeighborsRegressor model\n",
        "mse = mean_squared_error(pred_knn, y_val)\n",
        "rmse = np.sqrt(mse)\n",
        "print(rmse)"
      ],
      "execution_count": 39,
      "outputs": [
        {
          "output_type": "stream",
          "name": "stdout",
          "text": [
            "2.4502025289996423\n"
          ]
        }
      ]
    },
    {
      "cell_type": "markdown",
      "metadata": {
        "id": "jjtB1Osn3YEr"
      },
      "source": [
        "**Apply KNN regressor model with hyperparameter tunning by Grid Search**"
      ]
    },
    {
      "cell_type": "code",
      "metadata": {
        "id": "jaZDq6rkrmDC"
      },
      "source": [
        "#create dict with use with hyper parameter tunning \n",
        "param = {\n",
        "   'n_neighbors' : [5,10,20,50],\n",
        "    'weights' : ['uniform', 'distance']}"
      ],
      "execution_count": null,
      "outputs": []
    },
    {
      "cell_type": "code",
      "metadata": {
        "id": "L6tTo1Q-rmEu"
      },
      "source": [
        "#Apply GridSearchCV for hyperparameter tunning\n",
        "grid = GridSearchCV(knn, param, n_jobs=-1)\n",
        "grid.fit(X_train, y_train)"
      ],
      "execution_count": null,
      "outputs": []
    },
    {
      "cell_type": "code",
      "metadata": {
        "id": "ljwZIWE9rmG2"
      },
      "source": [
        "#Predict after tunning parameter\n",
        "pred_knn_ = grid.predict(X_val)\n",
        "#Model Evaluation by Root mean square error(RMSE)\n",
        "mse = mean_squared_error(pred_knn_, y_val)\n",
        "rmse = np.sqrt(mse)\n",
        "print(rmse)"
      ],
      "execution_count": null,
      "outputs": []
    },
    {
      "cell_type": "markdown",
      "metadata": {
        "id": "abLVC0BS3gw2"
      },
      "source": [
        "**Apply Linear Regression**"
      ]
    },
    {
      "cell_type": "code",
      "metadata": {
        "id": "3b6BR8QLG5Mo",
        "colab": {
          "base_uri": "https://localhost:8080/"
        },
        "outputId": "2f20b595-3ca4-4fac-b139-02e3ecc13e14"
      },
      "source": [
        "#built LinearRegression model\n",
        "lr = LinearRegression()\n",
        "lr.fit(X_train, y_train)"
      ],
      "execution_count": 27,
      "outputs": [
        {
          "output_type": "execute_result",
          "data": {
            "text/plain": [
              "LinearRegression(copy_X=True, fit_intercept=True, n_jobs=None, normalize=False)"
            ]
          },
          "metadata": {},
          "execution_count": 27
        }
      ]
    },
    {
      "cell_type": "code",
      "metadata": {
        "id": "dcqY5ljKCSJc",
        "colab": {
          "base_uri": "https://localhost:8080/"
        },
        "outputId": "07039f56-83d6-4c75-bca8-ac55683fd214"
      },
      "source": [
        "pred_lr = lr.predict(X_val)\n",
        "mse = mean_squared_error(pred_lr, y_val)\n",
        "rmse = np.sqrt(mse)\n",
        "print(rmse)"
      ],
      "execution_count": 28,
      "outputs": [
        {
          "output_type": "stream",
          "name": "stdout",
          "text": [
            "2.271387917405504\n"
          ]
        }
      ]
    },
    {
      "cell_type": "code",
      "metadata": {
        "id": "f8V2OYQjCSLj"
      },
      "source": [
        ""
      ],
      "execution_count": null,
      "outputs": []
    }
  ]
}